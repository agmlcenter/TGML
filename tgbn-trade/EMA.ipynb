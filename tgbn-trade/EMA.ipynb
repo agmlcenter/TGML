{
 "cells": [
  {
   "cell_type": "markdown",
   "metadata": {},
   "source": [
    "## Import Dependencies"
   ]
  },
  {
   "cell_type": "code",
   "execution_count": 1,
   "metadata": {},
   "outputs": [],
   "source": [
    "import os\n",
    "import sys\n",
    "import timeit\n",
    "import numpy as np\n",
    "from torch_geometric.loader import TemporalDataLoader # type: ignore\n",
    "from tgb.nodeproppred.dataset_pyg import PyGNodePropPredDataset # type: ignore\n",
    "from heuristics import ExponentialMovingAverage\n",
    "from tgb.nodeproppred.evaluate import Evaluator # type: ignore"
   ]
  },
  {
   "cell_type": "markdown",
   "metadata": {},
   "source": [
    "## Download Dataset\n",
    "Temporal Graph: The tgbn-trade dataset is the international agriculture trading network between nations of the United Nations (UN) from 1986 to 2016. Each node is a nation and an edge represents the sum trade value of all agriculture products from one nation to another one. As the data is reported annually, the time granularity of the dataset is yearly.\n",
    "\n",
    "Prediction task: The considered task for this dataset is to predict the proportion of agriculture trade values from one nation to other nations during the next year.\n",
    "\n",
    "This is called __Node Affinity Prediction__\n",
    "\n",
    "References\n",
    "[1] G. K. MacDonald, K. A. Brauman, S. Sun, K. M. Carlson, E. S. Cassidy, J. S. Gerber, and P. C. West. Rethinking agricultural trade relationships in an era of globalization. BioScience,65(3):275–289, 2015."
   ]
  },
  {
   "cell_type": "code",
   "execution_count": 2,
   "metadata": {},
   "outputs": [
    {
     "name": "stdout",
     "output_type": "stream",
     "text": [
      "raw file found, skipping download\n",
      "Dataset directory is  /home/ehsan/miniconda3/lib/python3.9/site-packages/tgb/datasets/tgbn_trade\n",
      "loading processed file\n"
     ]
    }
   ],
   "source": [
    "\n",
    "tgbn_dataset_name = 'tgbn-trade'\n",
    "dataset = PyGNodePropPredDataset(name=tgbn_dataset_name, root='datasets')\n",
    "num_classes = dataset.num_classes #255 node represent every country\n",
    "data = dataset.get_TemporalData() #TemporalData(src=[468245], dst=[468245], t=[468245], msg=[468245, 1], y=[468245])\n",
    "\n",
    "eval_metric = dataset.eval_metric #ndcg\n",
    "forecaster = ExponentialMovingAverage(num_classes, alpha=0.6)\n",
    "evaluator = Evaluator(name=tgbn_dataset_name)"
   ]
  },
  {
   "cell_type": "code",
   "execution_count": 41,
   "metadata": {},
   "outputs": [
    {
     "data": {
      "text/plain": [
       "TemporalData(src=[468245], dst=[468245], t=[468245], msg=[468245, 1], y=[468245])"
      ]
     },
     "execution_count": 41,
     "metadata": {},
     "output_type": "execute_result"
    }
   ],
   "source": [
    "data"
   ]
  },
  {
   "cell_type": "markdown",
   "metadata": {},
   "source": [
    "## See the number of edges per year graph"
   ]
  },
  {
   "cell_type": "code",
   "execution_count": 34,
   "metadata": {},
   "outputs": [
    {
     "data": {
      "image/png": "[encoded data removed]",
      "text/plain": [
       "<Figure size 640x480 with 1 Axes>"
      ]
     },
     "metadata": {},
     "output_type": "display_data"
    }
   ],
   "source": [
    "import torch\n",
    "import matplotlib.pyplot as plt\n",
    "\n",
    "# get the unique values and their counts\n",
    "unique_values, counts = torch.unique(data.t, return_counts=True)\n",
    "\n",
    "# create a bar plot\n",
    "plt.bar(unique_values, counts)\n",
    "plt.xlabel('Year')\n",
    "plt.ylabel('Count')\n",
    "plt.title('Number of Edges for Each Year')\n",
    "plt.show()"
   ]
  },
  {
   "cell_type": "markdown",
   "metadata": {},
   "source": [
    "## Split Dataset"
   ]
  },
  {
   "cell_type": "code",
   "execution_count": 19,
   "metadata": {},
   "outputs": [],
   "source": [
    "train_data, val_data, test_data = data.train_val_test_split(\n",
    "    val_ratio=0.15, test_ratio=0.15\n",
    ")\n",
    "\n",
    "batch_size = 200\n",
    "\n",
    "train_loader = TemporalDataLoader(train_data, batch_size=batch_size)\n",
    "val_loader = TemporalDataLoader(val_data, batch_size=batch_size)\n",
    "test_loader = TemporalDataLoader(test_data, batch_size=batch_size)"
   ]
  },
  {
   "cell_type": "markdown",
   "metadata": {},
   "source": [
    "## Prediction using Exponential Moving Average\n",
    "\n",
    "The update function for node affinity predictions"
   ]
  },
  {
   "cell_type": "markdown",
   "metadata": {},
   "source": [
    "### Explain the function total algorithm visually"
   ]
  },
  {
   "cell_type": "code",
   "execution_count": 40,
   "metadata": {},
   "outputs": [],
   "source": [
    "def test_n_upate(loader):\n",
    "    label_t = dataset.get_label_time()  # check when does the first label start\n",
    "    num_label_ts = 0\n",
    "    total_score = 0\n",
    "\n",
    "    for batch in loader:\n",
    "        query_t = batch.t[-1]\n",
    "        if query_t > label_t:\n",
    "            label_tuple = dataset.get_node_label(query_t)\n",
    "            if label_tuple is None:\n",
    "                break\n",
    "            label_ts, label_srcs, labels = (\n",
    "                label_tuple[0],\n",
    "                label_tuple[1],\n",
    "                label_tuple[2],\n",
    "            )\n",
    "            label_ts = label_ts.numpy()\n",
    "            label_srcs = label_srcs.numpy()\n",
    "            labels = labels.numpy()\n",
    "            label_t = dataset.get_label_time()\n",
    "\n",
    "            preds = []\n",
    "\n",
    "            for i in range(0, label_srcs.shape[0]):\n",
    "                node_id = label_srcs[i]\n",
    "                pred_vec = forecaster.query_dict(node_id)\n",
    "                preds.append(pred_vec)\n",
    "                forecaster.update_dict(node_id, labels[i])\n",
    "\n",
    "            np_pred = np.stack(preds, axis=0)\n",
    "            np_true = labels\n",
    "\n",
    "            input_dict = {\n",
    "                'y_true': np_true,\n",
    "                'y_pred': np_pred,\n",
    "                'eval_metric': [eval_metric],\n",
    "            }\n",
    "            result_dict = evaluator.eval(input_dict)\n",
    "            score = result_dict[eval_metric]\n",
    "\n",
    "            total_score += score\n",
    "            num_label_ts += 1\n",
    "\n",
    "    metric_dict = {}\n",
    "    metric_dict[eval_metric] = total_score / num_label_ts\n",
    "    return metric_dict\n"
   ]
  },
  {
   "cell_type": "markdown",
   "metadata": {},
   "source": [
    "## Explain ExponentialMovingAverage functionality"
   ]
  },
  {
   "cell_type": "code",
   "execution_count": null,
   "metadata": {},
   "outputs": [],
   "source": [
    "class ExponentialMovingAverage:\n",
    "    def __init__(self, num_class, alpha=0.1):\n",
    "        self.dict = {}\n",
    "        self.num_class = num_class\n",
    "        self.alpha = alpha\n",
    "\n",
    "    def update_dict(self, node_id, label):\n",
    "        if node_id in self.dict:\n",
    "            self.dict[node_id] = self.alpha * label + (1 - self.alpha) * self.dict[node_id]\n",
    "        else:\n",
    "            self.dict[node_id] = label\n",
    "\n",
    "    def query_dict(self, node_id):\n",
    "        r\"\"\"\n",
    "        Parameters:\n",
    "            node_id: the node to query\n",
    "        Returns:\n",
    "            returns the last seen label of the node if it exists, if not return zero vector\n",
    "        \"\"\"\n",
    "        if node_id in self.dict:\n",
    "            return self.dict[node_id]\n",
    "        else:\n",
    "            return np.zeros(self.num_class)"
   ]
  },
  {
   "cell_type": "markdown",
   "metadata": {},
   "source": [
    "## Todo:\n",
    "- Extract only 5 nodes/countries from the big graphs\n",
    "- Visualize the updates using the plots for three (Line plot with three color)\n",
    "    - Moving Average\n",
    "    - Exponential Moving Average\n",
    "    - Persistance\n",
    "- Visalize the iteration on the graph nodes.\n"
   ]
  },
  {
   "cell_type": "markdown",
   "metadata": {},
   "source": []
  }
 ],
 "metadata": {
  "kernelspec": {
   "display_name": "base",
   "language": "python",
   "name": "python3"
  },
  "language_info": {
   "codemirror_mode": {
    "name": "ipython",
    "version": 3
   },
   "file_extension": ".py",
   "mimetype": "text/x-python",
   "name": "python",
   "nbconvert_exporter": "python",
   "pygments_lexer": "ipython3",
   "version": "3.9.15"
  }
 },
 "nbformat": 4,
 "nbformat_minor": 2
}
